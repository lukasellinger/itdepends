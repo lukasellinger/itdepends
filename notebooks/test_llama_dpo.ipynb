{
 "cells": [
  {
   "metadata": {
    "collapsed": true,
    "ExecuteTime": {
     "end_time": "2025-07-16T12:11:10.743225Z",
     "start_time": "2025-07-16T12:10:56.163632Z"
    }
   },
   "cell_type": "code",
   "source": [
    "from datasets import load_dataset\n",
    "from tqdm import tqdm\n",
    "\n",
    "from config import PROJECT_DIR\n",
    "from conversation.builder import ModelConversationBuilder\n",
    "from data.loader import JSONLineReader\n",
    "from evaluation.judge import Judge\n",
    "\n",
    "split = 'shared_ref' #'shared_ref' # 'clear_ref' | 'shared_ref'\n",
    "mode = 'normal'\n",
    "order = [0, 1, 2]\n",
    "model = 'dpo-llama-v3p1-8b-instruct'\n",
    "model_path = \"lukasellinger/homonymy-dpo-llama-v3p1-8b-instruct\"\n",
    "\n",
    "output_file = f'{PROJECT_DIR}/data/outputs/outputs-{split}-{mode}-{model}-{''.join([str(o) for o in order])}.jsonl'\n",
    "dataset = load_dataset('lukasellinger/itdepends')\n",
    "conv_builder = ModelConversationBuilder(model=model_path, mode=mode, order=order)\n",
    "judge = Judge(data_type=split)"
   ],
   "id": "initial_id",
   "outputs": [
    {
     "data": {
      "text/plain": [
       "Loading checkpoint shards:   0%|          | 0/4 [00:00<?, ?it/s]"
      ],
      "application/vnd.jupyter.widget-view+json": {
       "version_major": 2,
       "version_minor": 0,
       "model_id": "50960b1ee16f48f49d103c2cba39318d"
      }
     },
     "metadata": {},
     "output_type": "display_data"
    },
    {
     "name": "stderr",
     "output_type": "stream",
     "text": [
      "Device set to use mps:0\n"
     ]
    }
   ],
   "execution_count": 5
  },
  {
   "metadata": {
    "ExecuteTime": {
     "end_time": "2025-07-16T12:15:38.883379Z",
     "start_time": "2025-07-16T12:11:15.502442Z"
    }
   },
   "cell_type": "code",
   "source": [
    "for entry in tqdm(dataset[split]):\n",
    "    output = conv_builder.generate_answer(entry)\n",
    "    judge_response = judge.judge_response({**output, 'entry': entry})\n",
    "    JSONLineReader().write(output_file, [{'judge_response': judge_response, **output, 'entry': entry}])"
   ],
   "id": "1af80c5ec86688c9",
   "outputs": [
    {
     "name": "stderr",
     "output_type": "stream",
     "text": [
      "  0%|          | 0/46 [04:22<?, ?it/s]\n"
     ]
    },
    {
     "ename": "KeyboardInterrupt",
     "evalue": "",
     "output_type": "error",
     "traceback": [
      "\u001B[31m---------------------------------------------------------------------------\u001B[39m",
      "\u001B[31mKeyboardInterrupt\u001B[39m                         Traceback (most recent call last)",
      "\u001B[36mCell\u001B[39m\u001B[36m \u001B[39m\u001B[32mIn[6]\u001B[39m\u001B[32m, line 2\u001B[39m\n\u001B[32m      1\u001B[39m \u001B[38;5;28;01mfor\u001B[39;00m entry \u001B[38;5;129;01min\u001B[39;00m tqdm(dataset[split]):\n\u001B[32m----> \u001B[39m\u001B[32m2\u001B[39m     output = \u001B[43mconv_builder\u001B[49m\u001B[43m.\u001B[49m\u001B[43mgenerate_answer\u001B[49m\u001B[43m(\u001B[49m\u001B[43mentry\u001B[49m\u001B[43m)\u001B[49m\n\u001B[32m      3\u001B[39m     judge_response = judge.judge_response({**output, \u001B[33m'\u001B[39m\u001B[33mentry\u001B[39m\u001B[33m'\u001B[39m: entry})\n\u001B[32m      4\u001B[39m     JSONLineReader().write(output_file, [{\u001B[33m'\u001B[39m\u001B[33mjudge_response\u001B[39m\u001B[33m'\u001B[39m: judge_response, **output, \u001B[33m'\u001B[39m\u001B[33mentry\u001B[39m\u001B[33m'\u001B[39m: entry}])\n",
      "\u001B[36mFile \u001B[39m\u001B[32m~/PycharmProjects/itdepends/src/conversation/builder.py:80\u001B[39m, in \u001B[36mModelConversationBuilder.generate_answer\u001B[39m\u001B[34m(self, entry)\u001B[39m\n\u001B[32m     78\u001B[39m \u001B[38;5;28;01mdef\u001B[39;00m\u001B[38;5;250m \u001B[39m\u001B[34mgenerate_answer\u001B[39m(\u001B[38;5;28mself\u001B[39m, entry: \u001B[38;5;28mdict\u001B[39m) -> \u001B[38;5;28mdict\u001B[39m:\n\u001B[32m     79\u001B[39m     conversation = \u001B[38;5;28mself\u001B[39m.build_conversation(entry)\n\u001B[32m---> \u001B[39m\u001B[32m80\u001B[39m     answer = \u001B[38;5;28;43mself\u001B[39;49m\u001B[43m.\u001B[49m\u001B[43mpipe\u001B[49m\u001B[43m(\u001B[49m\u001B[43mconversation\u001B[49m\u001B[43m)\u001B[49m[\u001B[32m0\u001B[39m][\u001B[33m'\u001B[39m\u001B[33mgenerated_text\u001B[39m\u001B[33m'\u001B[39m][-\u001B[32m1\u001B[39m][\u001B[33m'\u001B[39m\u001B[33mcontent\u001B[39m\u001B[33m'\u001B[39m]\n\u001B[32m     81\u001B[39m     \u001B[38;5;28;01mreturn\u001B[39;00m {\n\u001B[32m     82\u001B[39m         \u001B[33m'\u001B[39m\u001B[33manswer\u001B[39m\u001B[33m'\u001B[39m: answer,\n\u001B[32m     83\u001B[39m         \u001B[33m'\u001B[39m\u001B[33mconversation\u001B[39m\u001B[33m'\u001B[39m: conversation,\n\u001B[32m     84\u001B[39m     }\n",
      "\u001B[36mFile \u001B[39m\u001B[32m~/PycharmProjects/itdepends/.venv/lib/python3.12/site-packages/transformers/pipelines/text_generation.py:309\u001B[39m, in \u001B[36mTextGenerationPipeline.__call__\u001B[39m\u001B[34m(self, text_inputs, **kwargs)\u001B[39m\n\u001B[32m    306\u001B[39m \u001B[38;5;28;01mif\u001B[39;00m \u001B[38;5;28misinstance\u001B[39m(first_item, (\u001B[38;5;28mlist\u001B[39m, \u001B[38;5;28mtuple\u001B[39m, \u001B[38;5;28mdict\u001B[39m)):\n\u001B[32m    307\u001B[39m     \u001B[38;5;66;03m# We have one or more prompts in list-of-dicts format, so this is chat mode\u001B[39;00m\n\u001B[32m    308\u001B[39m     \u001B[38;5;28;01mif\u001B[39;00m \u001B[38;5;28misinstance\u001B[39m(first_item, \u001B[38;5;28mdict\u001B[39m):\n\u001B[32m--> \u001B[39m\u001B[32m309\u001B[39m         \u001B[38;5;28;01mreturn\u001B[39;00m \u001B[38;5;28;43msuper\u001B[39;49m\u001B[43m(\u001B[49m\u001B[43m)\u001B[49m\u001B[43m.\u001B[49m\u001B[34;43m__call__\u001B[39;49m\u001B[43m(\u001B[49m\u001B[43mChat\u001B[49m\u001B[43m(\u001B[49m\u001B[43mtext_inputs\u001B[49m\u001B[43m)\u001B[49m\u001B[43m,\u001B[49m\u001B[43m \u001B[49m\u001B[43m*\u001B[49m\u001B[43m*\u001B[49m\u001B[43mkwargs\u001B[49m\u001B[43m)\u001B[49m\n\u001B[32m    310\u001B[39m     \u001B[38;5;28;01melse\u001B[39;00m:\n\u001B[32m    311\u001B[39m         chats = (Chat(chat) \u001B[38;5;28;01mfor\u001B[39;00m chat \u001B[38;5;129;01min\u001B[39;00m text_inputs)  \u001B[38;5;66;03m# 🐈 🐈 🐈\u001B[39;00m\n",
      "\u001B[36mFile \u001B[39m\u001B[32m~/PycharmProjects/itdepends/.venv/lib/python3.12/site-packages/transformers/pipelines/base.py:1464\u001B[39m, in \u001B[36mPipeline.__call__\u001B[39m\u001B[34m(self, inputs, num_workers, batch_size, *args, **kwargs)\u001B[39m\n\u001B[32m   1456\u001B[39m     \u001B[38;5;28;01mreturn\u001B[39;00m \u001B[38;5;28mnext\u001B[39m(\n\u001B[32m   1457\u001B[39m         \u001B[38;5;28miter\u001B[39m(\n\u001B[32m   1458\u001B[39m             \u001B[38;5;28mself\u001B[39m.get_iterator(\n\u001B[32m   (...)\u001B[39m\u001B[32m   1461\u001B[39m         )\n\u001B[32m   1462\u001B[39m     )\n\u001B[32m   1463\u001B[39m \u001B[38;5;28;01melse\u001B[39;00m:\n\u001B[32m-> \u001B[39m\u001B[32m1464\u001B[39m     \u001B[38;5;28;01mreturn\u001B[39;00m \u001B[38;5;28;43mself\u001B[39;49m\u001B[43m.\u001B[49m\u001B[43mrun_single\u001B[49m\u001B[43m(\u001B[49m\u001B[43minputs\u001B[49m\u001B[43m,\u001B[49m\u001B[43m \u001B[49m\u001B[43mpreprocess_params\u001B[49m\u001B[43m,\u001B[49m\u001B[43m \u001B[49m\u001B[43mforward_params\u001B[49m\u001B[43m,\u001B[49m\u001B[43m \u001B[49m\u001B[43mpostprocess_params\u001B[49m\u001B[43m)\u001B[49m\n",
      "\u001B[36mFile \u001B[39m\u001B[32m~/PycharmProjects/itdepends/.venv/lib/python3.12/site-packages/transformers/pipelines/base.py:1471\u001B[39m, in \u001B[36mPipeline.run_single\u001B[39m\u001B[34m(self, inputs, preprocess_params, forward_params, postprocess_params)\u001B[39m\n\u001B[32m   1469\u001B[39m \u001B[38;5;28;01mdef\u001B[39;00m\u001B[38;5;250m \u001B[39m\u001B[34mrun_single\u001B[39m(\u001B[38;5;28mself\u001B[39m, inputs, preprocess_params, forward_params, postprocess_params):\n\u001B[32m   1470\u001B[39m     model_inputs = \u001B[38;5;28mself\u001B[39m.preprocess(inputs, **preprocess_params)\n\u001B[32m-> \u001B[39m\u001B[32m1471\u001B[39m     model_outputs = \u001B[38;5;28;43mself\u001B[39;49m\u001B[43m.\u001B[49m\u001B[43mforward\u001B[49m\u001B[43m(\u001B[49m\u001B[43mmodel_inputs\u001B[49m\u001B[43m,\u001B[49m\u001B[43m \u001B[49m\u001B[43m*\u001B[49m\u001B[43m*\u001B[49m\u001B[43mforward_params\u001B[49m\u001B[43m)\u001B[49m\n\u001B[32m   1472\u001B[39m     outputs = \u001B[38;5;28mself\u001B[39m.postprocess(model_outputs, **postprocess_params)\n\u001B[32m   1473\u001B[39m     \u001B[38;5;28;01mreturn\u001B[39;00m outputs\n",
      "\u001B[36mFile \u001B[39m\u001B[32m~/PycharmProjects/itdepends/.venv/lib/python3.12/site-packages/transformers/pipelines/base.py:1371\u001B[39m, in \u001B[36mPipeline.forward\u001B[39m\u001B[34m(self, model_inputs, **forward_params)\u001B[39m\n\u001B[32m   1369\u001B[39m     \u001B[38;5;28;01mwith\u001B[39;00m inference_context():\n\u001B[32m   1370\u001B[39m         model_inputs = \u001B[38;5;28mself\u001B[39m._ensure_tensor_on_device(model_inputs, device=\u001B[38;5;28mself\u001B[39m.device)\n\u001B[32m-> \u001B[39m\u001B[32m1371\u001B[39m         model_outputs = \u001B[38;5;28;43mself\u001B[39;49m\u001B[43m.\u001B[49m\u001B[43m_forward\u001B[49m\u001B[43m(\u001B[49m\u001B[43mmodel_inputs\u001B[49m\u001B[43m,\u001B[49m\u001B[43m \u001B[49m\u001B[43m*\u001B[49m\u001B[43m*\u001B[49m\u001B[43mforward_params\u001B[49m\u001B[43m)\u001B[49m\n\u001B[32m   1372\u001B[39m         model_outputs = \u001B[38;5;28mself\u001B[39m._ensure_tensor_on_device(model_outputs, device=torch.device(\u001B[33m\"\u001B[39m\u001B[33mcpu\u001B[39m\u001B[33m\"\u001B[39m))\n\u001B[32m   1373\u001B[39m \u001B[38;5;28;01melse\u001B[39;00m:\n",
      "\u001B[36mFile \u001B[39m\u001B[32m~/PycharmProjects/itdepends/.venv/lib/python3.12/site-packages/transformers/pipelines/text_generation.py:414\u001B[39m, in \u001B[36mTextGenerationPipeline._forward\u001B[39m\u001B[34m(self, model_inputs, **generate_kwargs)\u001B[39m\n\u001B[32m    411\u001B[39m \u001B[38;5;28;01mif\u001B[39;00m \u001B[33m\"\u001B[39m\u001B[33mgeneration_config\u001B[39m\u001B[33m\"\u001B[39m \u001B[38;5;129;01mnot\u001B[39;00m \u001B[38;5;129;01min\u001B[39;00m generate_kwargs:\n\u001B[32m    412\u001B[39m     generate_kwargs[\u001B[33m\"\u001B[39m\u001B[33mgeneration_config\u001B[39m\u001B[33m\"\u001B[39m] = \u001B[38;5;28mself\u001B[39m.generation_config\n\u001B[32m--> \u001B[39m\u001B[32m414\u001B[39m output = \u001B[38;5;28;43mself\u001B[39;49m\u001B[43m.\u001B[49m\u001B[43mmodel\u001B[49m\u001B[43m.\u001B[49m\u001B[43mgenerate\u001B[49m\u001B[43m(\u001B[49m\u001B[43minput_ids\u001B[49m\u001B[43m=\u001B[49m\u001B[43minput_ids\u001B[49m\u001B[43m,\u001B[49m\u001B[43m \u001B[49m\u001B[43mattention_mask\u001B[49m\u001B[43m=\u001B[49m\u001B[43mattention_mask\u001B[49m\u001B[43m,\u001B[49m\u001B[43m \u001B[49m\u001B[43m*\u001B[49m\u001B[43m*\u001B[49m\u001B[43mgenerate_kwargs\u001B[49m\u001B[43m)\u001B[49m\n\u001B[32m    416\u001B[39m \u001B[38;5;28;01mif\u001B[39;00m \u001B[38;5;28misinstance\u001B[39m(output, ModelOutput):\n\u001B[32m    417\u001B[39m     generated_sequence = output.sequences\n",
      "\u001B[36mFile \u001B[39m\u001B[32m~/PycharmProjects/itdepends/.venv/lib/python3.12/site-packages/torch/utils/_contextlib.py:116\u001B[39m, in \u001B[36mcontext_decorator.<locals>.decorate_context\u001B[39m\u001B[34m(*args, **kwargs)\u001B[39m\n\u001B[32m    113\u001B[39m \u001B[38;5;129m@functools\u001B[39m.wraps(func)\n\u001B[32m    114\u001B[39m \u001B[38;5;28;01mdef\u001B[39;00m\u001B[38;5;250m \u001B[39m\u001B[34mdecorate_context\u001B[39m(*args, **kwargs):\n\u001B[32m    115\u001B[39m     \u001B[38;5;28;01mwith\u001B[39;00m ctx_factory():\n\u001B[32m--> \u001B[39m\u001B[32m116\u001B[39m         \u001B[38;5;28;01mreturn\u001B[39;00m \u001B[43mfunc\u001B[49m\u001B[43m(\u001B[49m\u001B[43m*\u001B[49m\u001B[43margs\u001B[49m\u001B[43m,\u001B[49m\u001B[43m \u001B[49m\u001B[43m*\u001B[49m\u001B[43m*\u001B[49m\u001B[43mkwargs\u001B[49m\u001B[43m)\u001B[49m\n",
      "\u001B[36mFile \u001B[39m\u001B[32m~/PycharmProjects/itdepends/.venv/lib/python3.12/site-packages/transformers/generation/utils.py:2625\u001B[39m, in \u001B[36mGenerationMixin.generate\u001B[39m\u001B[34m(self, inputs, generation_config, logits_processor, stopping_criteria, prefix_allowed_tokens_fn, synced_gpus, assistant_model, streamer, negative_prompt_ids, negative_prompt_attention_mask, use_model_defaults, custom_generate, **kwargs)\u001B[39m\n\u001B[32m   2617\u001B[39m     input_ids, model_kwargs = \u001B[38;5;28mself\u001B[39m._expand_inputs_for_generation(\n\u001B[32m   2618\u001B[39m         input_ids=input_ids,\n\u001B[32m   2619\u001B[39m         expand_size=generation_config.num_return_sequences,\n\u001B[32m   2620\u001B[39m         is_encoder_decoder=\u001B[38;5;28mself\u001B[39m.config.is_encoder_decoder,\n\u001B[32m   2621\u001B[39m         **model_kwargs,\n\u001B[32m   2622\u001B[39m     )\n\u001B[32m   2624\u001B[39m     \u001B[38;5;66;03m# 12. run sample (it degenerates to greedy search when `generation_config.do_sample=False`)\u001B[39;00m\n\u001B[32m-> \u001B[39m\u001B[32m2625\u001B[39m     result = \u001B[38;5;28;43mself\u001B[39;49m\u001B[43m.\u001B[49m\u001B[43m_sample\u001B[49m\u001B[43m(\u001B[49m\n\u001B[32m   2626\u001B[39m \u001B[43m        \u001B[49m\u001B[43minput_ids\u001B[49m\u001B[43m,\u001B[49m\n\u001B[32m   2627\u001B[39m \u001B[43m        \u001B[49m\u001B[43mlogits_processor\u001B[49m\u001B[43m=\u001B[49m\u001B[43mprepared_logits_processor\u001B[49m\u001B[43m,\u001B[49m\n\u001B[32m   2628\u001B[39m \u001B[43m        \u001B[49m\u001B[43mstopping_criteria\u001B[49m\u001B[43m=\u001B[49m\u001B[43mprepared_stopping_criteria\u001B[49m\u001B[43m,\u001B[49m\n\u001B[32m   2629\u001B[39m \u001B[43m        \u001B[49m\u001B[43mgeneration_config\u001B[49m\u001B[43m=\u001B[49m\u001B[43mgeneration_config\u001B[49m\u001B[43m,\u001B[49m\n\u001B[32m   2630\u001B[39m \u001B[43m        \u001B[49m\u001B[43msynced_gpus\u001B[49m\u001B[43m=\u001B[49m\u001B[43msynced_gpus\u001B[49m\u001B[43m,\u001B[49m\n\u001B[32m   2631\u001B[39m \u001B[43m        \u001B[49m\u001B[43mstreamer\u001B[49m\u001B[43m=\u001B[49m\u001B[43mstreamer\u001B[49m\u001B[43m,\u001B[49m\n\u001B[32m   2632\u001B[39m \u001B[43m        \u001B[49m\u001B[43m*\u001B[49m\u001B[43m*\u001B[49m\u001B[43mmodel_kwargs\u001B[49m\u001B[43m,\u001B[49m\n\u001B[32m   2633\u001B[39m \u001B[43m    \u001B[49m\u001B[43m)\u001B[49m\n\u001B[32m   2635\u001B[39m \u001B[38;5;28;01melif\u001B[39;00m generation_mode \u001B[38;5;129;01min\u001B[39;00m (GenerationMode.BEAM_SAMPLE, GenerationMode.BEAM_SEARCH):\n\u001B[32m   2636\u001B[39m     \u001B[38;5;66;03m# 11. interleave input_ids with `num_beams` additional sequences per batch\u001B[39;00m\n\u001B[32m   2637\u001B[39m     input_ids, model_kwargs = \u001B[38;5;28mself\u001B[39m._expand_inputs_for_generation(\n\u001B[32m   2638\u001B[39m         input_ids=input_ids,\n\u001B[32m   2639\u001B[39m         expand_size=generation_config.num_beams,\n\u001B[32m   2640\u001B[39m         is_encoder_decoder=\u001B[38;5;28mself\u001B[39m.config.is_encoder_decoder,\n\u001B[32m   2641\u001B[39m         **model_kwargs,\n\u001B[32m   2642\u001B[39m     )\n",
      "\u001B[36mFile \u001B[39m\u001B[32m~/PycharmProjects/itdepends/.venv/lib/python3.12/site-packages/transformers/generation/utils.py:3651\u001B[39m, in \u001B[36mGenerationMixin._sample\u001B[39m\u001B[34m(self, input_ids, logits_processor, stopping_criteria, generation_config, synced_gpus, streamer, **model_kwargs)\u001B[39m\n\u001B[32m   3649\u001B[39m     probs = nn.functional.softmax(next_token_scores, dim=-\u001B[32m1\u001B[39m)\n\u001B[32m   3650\u001B[39m     \u001B[38;5;66;03m# TODO (joao): this OP throws \"skipping cudagraphs due to ['incompatible ops']\", find solution\u001B[39;00m\n\u001B[32m-> \u001B[39m\u001B[32m3651\u001B[39m     next_tokens = \u001B[43mtorch\u001B[49m\u001B[43m.\u001B[49m\u001B[43mmultinomial\u001B[49m\u001B[43m(\u001B[49m\u001B[43mprobs\u001B[49m\u001B[43m,\u001B[49m\u001B[43m \u001B[49m\u001B[43mnum_samples\u001B[49m\u001B[43m=\u001B[49m\u001B[32;43m1\u001B[39;49m\u001B[43m)\u001B[49m.squeeze(\u001B[32m1\u001B[39m)\n\u001B[32m   3652\u001B[39m \u001B[38;5;28;01melse\u001B[39;00m:\n\u001B[32m   3653\u001B[39m     next_tokens = torch.argmax(next_token_scores, dim=-\u001B[32m1\u001B[39m)\n",
      "\u001B[31mKeyboardInterrupt\u001B[39m: "
     ]
    }
   ],
   "execution_count": 6
  },
  {
   "metadata": {
    "ExecuteTime": {
     "end_time": "2025-08-08T12:15:16.179113Z",
     "start_time": "2025-08-08T12:15:12.577103Z"
    }
   },
   "cell_type": "code",
   "source": [
    "from datasets import load_dataset\n",
    "\n",
    "dataset = load_dataset('lukasellinger/multi-turn-need-resolution')"
   ],
   "id": "1591f050c5e61af7",
   "outputs": [],
   "execution_count": 6
  },
  {
   "metadata": {
    "ExecuteTime": {
     "end_time": "2025-08-08T12:17:23.801466Z",
     "start_time": "2025-08-08T12:17:23.798463Z"
    }
   },
   "cell_type": "code",
   "source": "dataset['train'][10]",
   "id": "f124fb37d33078e7",
   "outputs": [
    {
     "data": {
      "text/plain": [
       "{'persona': {'id': 29184,\n",
       "  'persona': 'A local sports bar owner who organizes watch parties for every Offaly match, bringing the community together'},\n",
       " 'topic': {'id': 0,\n",
       "  'topic': 'Should Student Loan Debt Be Easier to Discharge in Bankruptcy? - Top 3 Pros & Cons'},\n",
       " 'queries': ['Should Student Loan Debt Be Easier to Discharge in Bankruptcy? - Top 3 Pros & Cons',\n",
       "  'differences between federal and private student loans in bankruptcy',\n",
       "  'process for proving undue hardship in student loan bankruptcy',\n",
       "  'impact of student loan bankruptcy discharge on credit score',\n",
       "  'alternatives to bankruptcy for managing student loan debt',\n",
       "  'how student loan bankruptcy rules affect borrower behavior',\n",
       "  'arguments for and against keeping the undue hardship standard for student loan bankruptcy',\n",
       "  'effects of making student loan bankruptcy discharge easier on lenders and tuition rates',\n",
       "  'how student loan bankruptcy discharge impacts future borrowing ability',\n",
       "  'student loan bankruptcy discharge and its impact on co-signers'],\n",
       " 'needs': ['The user is trying to understand the arguments for and against making student loan debt easier to discharge in bankruptcy, likely to become better informed about this issue—possibly to participate in discussions with patrons or make informed decisions related to staff, community events, or local advocacy.',\n",
       "  'The user wants to understand the challenges and possibilities of discharging student loan debt through bankruptcy, specifically the distinctions between federal and private student loans in this context, likely to inform a personal financial decision or to assist someone in their community facing student loan debt issues.',\n",
       "  'The user is seeking to understand the legal and practical possibilities for discharging student loan debt through bankruptcy, including the comparative treatment of federal versus private loans and the requirements to prove undue hardship, likely to assess options for alleviating significant personal or community financial burdens related to student loans.',\n",
       "  \"The user wants to understand whether and how it is possible to eliminate student loan debt through bankruptcy, including the types of loans involved, the legal process and standards required (such as proving undue hardship), and the potential consequences on their financial future, in order to make an informed decision about handling their own or someone close to them's student debt situation.\",\n",
       "  'The user is seeking to understand the feasibility, process, and consequences of discharging student loan debt through bankruptcy, including the pros and cons, legal distinctions between loan types, the hardship requirement, potential credit impact, and alternative debt relief options. Their underlying goal is to determine the best way to address and potentially eliminate overwhelming student loan debt, either through bankruptcy or other means, while minimizing negative financial consequences.',\n",
       "  'The user is trying to understand the feasibility, consequences, and alternatives of discharging student loan debt through bankruptcy—specifically, how the process works, what the requirements are, the impact on their financial future (like credit score), and whether pursuing bankruptcy or alternative solutions is the best option for them or someone they know who is struggling with student loan debt.',\n",
       "  \"The user is seeking to deeply understand the legal and practical implications of discharging student loan debt through bankruptcy, including the differences between federal and private loans, the process and standards (like 'undue hardship'), how bankruptcy affects credit and future financial options, and possible alternative solutions. They are likely evaluating their own or someone close's options for managing unmanageable student loan debt and want to make an informed decision about whether pursuing bankruptcy is a feasible and advisable path.\",\n",
       "  \"The user is trying to understand the complexities and consequences of discharging student loan debt through bankruptcy, including the legal standards, personal financial impacts, policy arguments, and broader economic effects, in order to make an informed decision about managing their own or others' student loan debt—potentially considering bankruptcy as an option or advising someone in their community.\",\n",
       "  'The user is seeking to understand the implications, process, and consequences of discharging student loan debt through bankruptcy—specifically, how feasible it is, what the requirements and alternatives are, and the personal and systemic effects—likely to make an informed decision about managing their own or someone close’s student loan debt through bankruptcy or alternative means.',\n",
       "  \"The user is trying to thoroughly understand the process, consequences, and broader implications of discharging student loan debt through bankruptcy. They want detailed knowledge of how it works (especially differences between federal and private loans and the 'undue hardship' standard), its effects on credit and future borrowing, alternatives to bankruptcy, and the potential impacts on themselves, co-signers, lenders, and education costs. Their goal is likely to evaluate whether bankruptcy is a viable or advisable option for managing student loan debt, either for themselves or someone they know.\"],\n",
       " 'final_need_questions': ['Does the response clearly explain the process of discharging student loan debt through bankruptcy?',\n",
       "  'Does the response describe the differences between federal and private student loans in the context of bankruptcy?',\n",
       "  \"Does the response define and explain the 'undue hardship' standard and how it applies to student loan discharge?\",\n",
       "  \"Does the response discuss the effects of student loan bankruptcy on the borrower's credit score and future borrowing ability?\",\n",
       "  'Does the response outline alternatives to bankruptcy for managing student loan debt?',\n",
       "  'Does the response address the potential impacts of bankruptcy on co-signers?',\n",
       "  'Does the response consider the effects on lenders when student loans are discharged through bankruptcy?',\n",
       "  'Does the response explore possible broader implications, such as impacts on education costs or loan availability?',\n",
       "  'Does the response evaluate the viability or advisability of bankruptcy as an option for student loan debt, considering all relevant factors?']}"
      ]
     },
     "execution_count": 11,
     "metadata": {},
     "output_type": "execute_result"
    }
   ],
   "execution_count": 11
  }
 ],
 "metadata": {
  "kernelspec": {
   "display_name": "Python 3",
   "language": "python",
   "name": "python3"
  },
  "language_info": {
   "codemirror_mode": {
    "name": "ipython",
    "version": 2
   },
   "file_extension": ".py",
   "mimetype": "text/x-python",
   "name": "python",
   "nbconvert_exporter": "python",
   "pygments_lexer": "ipython2",
   "version": "2.7.6"
  }
 },
 "nbformat": 4,
 "nbformat_minor": 5
}
